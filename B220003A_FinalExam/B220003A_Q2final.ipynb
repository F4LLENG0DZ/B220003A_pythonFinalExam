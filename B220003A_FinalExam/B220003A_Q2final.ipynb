{
 "cells": [
  {
   "cell_type": "code",
   "execution_count": 14,
   "id": "8aa8ea13-d0b0-42bb-bdb7-cad2fb72ce7a",
   "metadata": {},
   "outputs": [
    {
     "name": "stdin",
     "output_type": "stream",
     "text": [
      "Input your password:  asifeisufboew\n"
     ]
    },
    {
     "name": "stdout",
     "output_type": "stream",
     "text": [
      "Password should have a single digit (0-9) at least.\n"
     ]
    },
    {
     "name": "stdin",
     "output_type": "stream",
     "text": [
      "Input your password:  dafesfsaf\n"
     ]
    },
    {
     "name": "stdout",
     "output_type": "stream",
     "text": [
      "Password should have a single digit (0-9) at least.\n"
     ]
    },
    {
     "name": "stdin",
     "output_type": "stream",
     "text": [
      "Input your password:  qfeqfqe4\n"
     ]
    },
    {
     "name": "stdout",
     "output_type": "stream",
     "text": [
      "Password should have a UPPERCASE letter at least.\n"
     ]
    },
    {
     "name": "stdin",
     "output_type": "stream",
     "text": [
      "Input your password:  aeafesE\n"
     ]
    },
    {
     "name": "stdout",
     "output_type": "stream",
     "text": [
      "Password should have a single digit (0-9) at least.\n"
     ]
    },
    {
     "name": "stdin",
     "output_type": "stream",
     "text": [
      "Input your password:  EER#3\n"
     ]
    },
    {
     "name": "stdout",
     "output_type": "stream",
     "text": [
      "Password should have a lowercase letter at least.\n"
     ]
    },
    {
     "name": "stdin",
     "output_type": "stream",
     "text": [
      "Input your password:  dawdE#3\n"
     ]
    },
    {
     "name": "stdout",
     "output_type": "stream",
     "text": [
      "Valid Password. Your Password is dawdE#3\n"
     ]
    }
   ],
   "source": [
    "# Import the 're' module for regular expressions\n",
    "import re\n",
    "\n",
    "\n",
    "\n",
    "# Set 'x' to True to enter the while loop\n",
    "validPassword = False\n",
    "\n",
    "# Start a while loop that continues until 'x' is True\n",
    "while validPassword == False:  \n",
    "\n",
    "    # Prompt the user to input a password and store it in the variable 'p'\n",
    "    userPasswordInput = input(\"Input your password: \")\n",
    "    # Check conditions for a valid password:\n",
    "    # Password length should be longer than 8 characters.\n",
    "    if (len(p) < 8):\n",
    "        print(\"Password should be longer than 8 characters.\")\n",
    "    # Password should contain at least one lowercase letter\n",
    "    elif not re.search(\"[a-z]\", userPasswordInput):\n",
    "        print(\"Password should have a lowercase letter at least.\")\n",
    "    # Password should contain at least one digit\n",
    "    elif not re.search(\"[0-9]\", userPasswordInput):\n",
    "        print(\"Password should have a single digit (0-9) at least.\")\n",
    "    # Password should contain at least one uppercase letter\n",
    "    elif not re.search(\"[A-Z]\", userPasswordInput):\n",
    "        print(\"Password should have a UPPERCASE letter at least.\")\n",
    "    # Password should not contain any whitespace character\n",
    "    elif re.search(\"\\s\", userPasswordInput):\n",
    "        print(\"Password should NOT have any whitespace.\")\n",
    "    else:\n",
    "        # If all conditions are met, print \"Valid Password\" and set 'x' to False to exit the loop\n",
    "        print(\"Valid Password. Your Password is \" + userPasswordInput)\n",
    "        validPassword = True\n",
    "        break\n",
    "\n",
    " "
   ]
  },
  {
   "cell_type": "code",
   "execution_count": null,
   "id": "4413f2d6-5a67-41ab-8bce-6ec334e8aefd",
   "metadata": {},
   "outputs": [],
   "source": []
  }
 ],
 "metadata": {
  "kernelspec": {
   "display_name": "Python 3 (ipykernel)",
   "language": "python",
   "name": "python3"
  },
  "language_info": {
   "codemirror_mode": {
    "name": "ipython",
    "version": 3
   },
   "file_extension": ".py",
   "mimetype": "text/x-python",
   "name": "python",
   "nbconvert_exporter": "python",
   "pygments_lexer": "ipython3",
   "version": "3.11.7"
  }
 },
 "nbformat": 4,
 "nbformat_minor": 5
}
